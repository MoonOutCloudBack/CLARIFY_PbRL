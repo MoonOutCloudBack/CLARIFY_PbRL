{
 "cells": [
  {
   "cell_type": "markdown",
   "metadata": {},
   "source": [
    "# Verify that our non-ideal teacher simulates human labelers"
   ]
  },
  {
   "cell_type": "code",
   "execution_count": null,
   "metadata": {},
   "outputs": [],
   "source": [
    "import os\n",
    "import numpy as np\n",
    "import pandas as pd\n",
    "from IPython.display import display\n",
    "import time\n",
    "path = './human_query/'\n",
    "\n",
    "# setting\n",
    "env_name = 'hammer'  # ['dial-turn', 'hammer', 'walker-walk']\n",
    "rd = 100  # [10, 100, 300]\n",
    "\n",
    "\n",
    "human_query_csv_path = os.path.join(path, f'{env_name}_rd_{rd}.csv')\n",
    "# query_idx_0, query_idx_1, rd\n",
    "human_query_df = pd.read_csv(human_query_csv_path)\n",
    "print(f'env_name: {env_name}, return difference: {rd}')\n",
    "print(human_query_df.head())"
   ]
  },
  {
   "cell_type": "code",
   "execution_count": 40,
   "metadata": {},
   "outputs": [],
   "source": [
    "result_df = human_query_df.copy()\n",
    "result_df['gt_label'] = result_df.apply(lambda x: \"1 0\" if x['return_0'] > x ['return_1'] else \"0 1\", axis=1)\n",
    "result_df['human_label'] = None"
   ]
  },
  {
   "cell_type": "markdown",
   "metadata": {},
   "source": [
    "## Prompt\n",
    "\n",
    "Here are the prompts for the three tasks:\n",
    "\n",
    "### 1. **Metaworld Dial-Turn Task**\n",
    "\n",
    "**Task Purpose**:  \n",
    "In this task, you will be comparing two segments of a robotic arm trying to turn a dial. Your goal is to evaluate which segment performs better in achieving the task's objectives.\n",
    "\n",
    "**Instructions**:  \n",
    "- **Step 1**: First, choose the segment where the robot's arm reaches the dial more accurately (the **reach** component).  \n",
    "- **Step 2**: If the reach performance is the same in both segments, then choose the one where the robot's gripper is closed more appropriately (the **gripper closed** component).  \n",
    "- **Step 3**: If both reach and gripper closure are equal, choose the segment that has the robot's arm placed closer to the target position (the **in place** component).  \n",
    "\n",
    "### 2. **Metaworld Hammer Task**\n",
    "\n",
    "**Task Purpose**:  \n",
    "In this task, you will be comparing two segments where a robotic arm is hammering a nail. The aim is to evaluate which segment results in a better execution of the hammering process.\n",
    "\n",
    "**Instructions**:  \n",
    "- **Step 1**: First, choose the segment where the hammerhead is in better position and the nail is properly hit (the **reward in place** component).  \n",
    "- **Step 2**: If the hammerhead positioning is similar in both segments, choose the one where the robot is better holding the hammer and the nail (the **reward grab** component).  \n",
    "- **Step 3**: If both the hammerhead position and grasping are the same, select the segment where the orientation of the hammer is more suitable (the **reward quaternion** component).  \n",
    "\n",
    "### 3. **DMControl Walker-Walk Task**\n",
    "\n",
    "**Task Purpose**:  \n",
    "In this task, you will compare two segments where a bipedal robot is attempting to walk. Your goal is to determine which segment shows better walking performance.\n",
    "\n",
    "**Instructions**:  \n",
    "- **Step 1**: First, choose the segment where the robot stands more stably (the **standing** reward).  \n",
    "- **Step 2**: If both segments have the same stability, choose the one where the robot moves faster or more smoothly (the **move reward**).  \n",
    "- **Step 3**: If both standing and moving are comparable, select the segment where the robot maintains better upright posture (the **upright** reward).  \n",
    "\n"
   ]
  },
  {
   "cell_type": "markdown",
   "metadata": {},
   "source": [
    "# Human feedback\n",
    "\n",
    "- If you prefer the segment above (press 1 0), prefer the segment below (press 0 1), cannot distinguish between them (press 0 0)\n",
    "\n",
    "- If you want to quit the program (input 'quit' or 'exit')\n"
   ]
  },
  {
   "cell_type": "code",
   "execution_count": null,
   "metadata": {},
   "outputs": [],
   "source": [
    "from IPython.display import clear_output, HTML, Image\n",
    "import base64\n",
    "\n",
    "for i in range(20):\n",
    "    clear_output()\n",
    "    print(f\"{i+1}th among total 20 feedbacks\")\n",
    "    query_idx_0 = human_query_df.iloc[i]['query_idx_0']\n",
    "    query_idx_1 = human_query_df.iloc[i]['query_idx_1']\n",
    "    print(f'query_idx_0: {query_idx_0}, query_idx_1: {query_idx_1}')\n",
    "\n",
    "    segment_0 = os.path.join('./', 'video_' + env_name, f'{query_idx_0}.gif')\n",
    "    segment_1 = os.path.join('./', 'video_' + env_name, f'{query_idx_1}.gif')\n",
    "    print(f'segment_0: {segment_0}')\n",
    "    print(f'segment_1: {segment_1}')\n",
    "\n",
    "    time.sleep(0.1)\n",
    "    display(HTML(f'''\n",
    "    <div style=\"display: inline-block; margin-right: 100px;\">\n",
    "        <img src=\"{segment_0}\" width=\"400\" loop=\"true\" >\n",
    "    </div>\n",
    "    '''))\n",
    "    time.sleep(0.1)\n",
    "    display(HTML(f'''\n",
    "    <div style=\"display: inline-block;\">\n",
    "        <img src=\"{segment_1}\" width=\"400\" loop=\"true\" >\n",
    "    </div>\n",
    "    '''))\n",
    "\n",
    "    # display(Image(filename=segment_0, width=300))\n",
    "    # time.sleep(0.1)\n",
    "    # print('vs')\n",
    "    # display(Image(filename=segment_1, width=300))\n",
    "    time.sleep(1)\n",
    "    select = input('select')\n",
    "    if select == 'quit' or select == 'exit':\n",
    "        break    \n",
    "    result_df.loc[i, 'human_label'] = select\n",
    "\n",
    "    result_df.to_csv(os.path.join(path, f'{env_name}_rd_{rd}_human.csv'), index=False)\n"
   ]
  }
 ],
 "metadata": {
  "kernelspec": {
   "display_name": "mn_pbhim",
   "language": "python",
   "name": "python3"
  },
  "language_info": {
   "codemirror_mode": {
    "name": "ipython",
    "version": 3
   },
   "file_extension": ".py",
   "mimetype": "text/x-python",
   "name": "python",
   "nbconvert_exporter": "python",
   "pygments_lexer": "ipython3",
   "version": "3.8.0"
  },
  "orig_nbformat": 4
 },
 "nbformat": 4,
 "nbformat_minor": 2
}
